{
 "cells": [
  {
   "cell_type": "markdown",
   "id": "3c5f8754-5e5b-4831-b581-a788a52297c0",
   "metadata": {},
   "source": [
    "# Amazing Mazes"
   ]
  },
  {
   "cell_type": "markdown",
   "id": "406dc3f6-56ac-48a8-8695-190d25559508",
   "metadata": {},
   "source": [
    "Générateur et solveur de labyrinthe parfait inspiré par la mythologie grecque. Met en œuvre le Retour sur trace (Recursive Backtracking) et Kruskal pour la génération, le Retour sur trace et A* pour la résolution. Comprend la visualisation ASCII/image, l'analyse de performance et des tests sur des labyrinthes jusqu'à 100 000 cellules. Projet algorithmique Python avec benchmarks comparatifs."
   ]
  },
  {
   "cell_type": "code",
   "execution_count": null,
   "id": "201773c9-bf1d-4012-a5c6-0e5ab70e50a4",
   "metadata": {},
   "outputs": [],
   "source": [
    "# imports"
   ]
  },
  {
   "cell_type": "markdown",
   "id": "a84f166f-0d55-4d36-b286-ce23b44cf297",
   "metadata": {},
   "source": [
    "## Les constructeurs"
   ]
  },
  {
   "cell_type": "markdown",
   "id": "e6a5d49d-0474-4279-af3f-1f1dccf13ca8",
   "metadata": {},
   "source": [
    "### Recursive Backtracking"
   ]
  },
  {
   "cell_type": "markdown",
   "id": "a5308d3e-f913-415d-87c0-69cf6336c7cf",
   "metadata": {},
   "source": [
    "### Kruskal"
   ]
  },
  {
   "cell_type": "markdown",
   "id": "e20e8858-542d-42c1-9860-2ac95aca1430",
   "metadata": {},
   "source": [
    "## Les solveurs"
   ]
  },
  {
   "cell_type": "markdown",
   "id": "920b6aa5-7be8-410f-8c0f-d037df7506cd",
   "metadata": {},
   "source": [
    "### Recursive Backtracking"
   ]
  },
  {
   "cell_type": "markdown",
   "id": "e5dd44ff-81f4-4755-80c2-23f4c4a9c515",
   "metadata": {},
   "source": [
    "### A*"
   ]
  },
  {
   "cell_type": "markdown",
   "id": "eec5fb95-3549-4604-aa3b-2b51362c3aee",
   "metadata": {},
   "source": [
    "## Analyse Comparative des Performances Algorithmiques"
   ]
  }
 ],
 "metadata": {
  "kernelspec": {
   "display_name": "amazing-mazes",
   "language": "python",
   "name": "amazing-mazes"
  },
  "language_info": {
   "codemirror_mode": {
    "name": "ipython",
    "version": 3
   },
   "file_extension": ".py",
   "mimetype": "text/x-python",
   "name": "python",
   "nbconvert_exporter": "python",
   "pygments_lexer": "ipython3",
   "version": "3.10.18"
  }
 },
 "nbformat": 4,
 "nbformat_minor": 5
}
