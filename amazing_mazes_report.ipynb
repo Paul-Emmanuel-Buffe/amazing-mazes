{
 "cells": [
  {
   "cell_type": "markdown",
   "id": "3c5f8754-5e5b-4831-b581-a788a52297c0",
   "metadata": {},
   "source": [
    "# Amazing Mazes"
   ]
  },
  {
   "cell_type": "markdown",
   "id": "406dc3f6-56ac-48a8-8695-190d25559508",
   "metadata": {},
   "source": [
    "Générateur et solveur de labyrinthe parfait inspiré par la mythologie grecque. Met en œuvre le Retour sur trace (Recursive Backtracking) et Kruskal pour la génération, le Retour sur trace et A* pour la résolution. Comprend la visualisation ASCII/image, l'analyse de performance et des tests sur des labyrinthes jusqu'à 100 000 cellules. Projet algorithmique Python avec benchmarks comparatifs."
   ]
  },
  {
   "cell_type": "code",
   "execution_count": 140,
   "id": "201773c9-bf1d-4012-a5c6-0e5ab70e50a4",
   "metadata": {},
   "outputs": [],
   "source": [
    "# imports\n",
    "\n",
    "# Outils dédiés à l'analyse des données via SQL\n",
    "import duckdb\n",
    "import pandas as pd\n",
    "import matplotlib.pyplot as plt"
   ]
  },
  {
   "cell_type": "markdown",
   "id": "a84f166f-0d55-4d36-b286-ce23b44cf297",
   "metadata": {},
   "source": [
    "## Les constructeurs"
   ]
  },
  {
   "cell_type": "markdown",
   "id": "e6a5d49d-0474-4279-af3f-1f1dccf13ca8",
   "metadata": {},
   "source": [
    "### Recursive Backtracking"
   ]
  },
  {
   "cell_type": "markdown",
   "id": "a5308d3e-f913-415d-87c0-69cf6336c7cf",
   "metadata": {},
   "source": [
    "### Kruskal"
   ]
  },
  {
   "cell_type": "markdown",
   "id": "2dc35f5f",
   "metadata": {},
   "source": [
    "#### Principe Général\n",
    "L'algorithme de Kruskal génère des labyrinthes parfaits basés sur la théorie des MST (Minimum Spanning Tree), garantissant un unique chemin entre toute paire de cellules.\n",
    "\n",
    "#### Fonctionnement\n",
    "**Préparation** : Modélisation en graphe (cellules = nœuds), génération de toutes les arêtes adjacentes, randomisation.\n",
    "\n",
    "**Construction** : Chaque cellule forme une composante connexe. Pour chaque arête randomisée, fusion des composantes si différentes (suppression du mur), sinon conservation pour éviter les cycles. Arrêt à n-1 arêtes ajoutées.\n",
    "\n",
    "#### Caractéristiques Majeures\n",
    "**Structure Union-Find** : Compression de chemin et union par rang pour l'optimisation.\n",
    "\n",
    "**Propriétés** : Perfection (chemin unique), connectivité totale, absence de cycles, uniformité statistique.\n",
    "\n",
    "#### Complexité Algorithmique\n",
    "Pour un labyrinthe de taille n×n :\n",
    "* **E = 2n(n-1)** arêtes au maximum\n",
    "* **V = n²** cellules\n",
    "* **Complexité finale** : O(n² log n)"
   ]
  },
  {
   "cell_type": "markdown",
   "id": "28fcbd03-1801-40cf-8c42-025d57696bbd",
   "metadata": {},
   "source": [
    "### Kurskal strict"
   ]
  },
  {
   "cell_type": "markdown",
   "id": "38e18577-fd37-48fa-8b28-0643d53af39b",
   "metadata": {},
   "source": [
    "### Kurskal optimisé"
   ]
  },
  {
   "cell_type": "markdown",
   "id": "83fb1d6b",
   "metadata": {
    "jp-MarkdownHeadingCollapsed": true
   },
   "source": [
    "#### Principe Général\n",
    "Version optimisée de Kruskal éliminant le pré-stockage de toutes les arêtes. Génération et traitement à la volée des connexions adjacentes pour réduire drastiquement l'empreinte mémoire.\n",
    "\n",
    "#### Fonctionnement\n",
    "**Préparation** : Randomisation de l'ordre des cellules (non des arêtes). Aucun stockage préalable des connexions.\n",
    "**Construction** : Pour chaque cellule dans l'ordre randomisé, génération dynamique des arêtes adjacentes (maximum 2), randomisation locale, puis application du critère Union-Find. Arrêt anticipé si labyrinthe complet.\n",
    "\n",
    "#### Différences Majeures vs Kruskal Strict\n",
    "**Génération dynamique** : Arêtes créées à la demande vs stockage exhaustif initial.\n",
    "**Optimisation mémoire** : O(V) vs O(V + E) - élimination du stockage des ~2n² arêtes.\n",
    "**Performance** : ~5x plus rapide sur grandes instances grâce à la réduction des allocations mémoire   et du tri global.\n",
    "\n",
    "#### Complexité Algorithmique\n",
    "Pour un labyrinthe n×n : **Complexité finale** : O(n²) vs O(n² log n)"
   ]
  },
  {
   "cell_type": "markdown",
   "id": "e20e8858-542d-42c1-9860-2ac95aca1430",
   "metadata": {},
   "source": [
    "## Les solveurs"
   ]
  },
  {
   "cell_type": "markdown",
   "id": "920b6aa5-7be8-410f-8c0f-d037df7506cd",
   "metadata": {},
   "source": [
    "### Recursive Backtracking"
   ]
  },
  {
   "cell_type": "markdown",
   "id": "e5dd44ff-81f4-4755-80c2-23f4c4a9c515",
   "metadata": {},
   "source": [
    "### A*"
   ]
  },
  {
   "cell_type": "markdown",
   "id": "b4599276-4a2d-4070-a4b1-737c012e5b40",
   "metadata": {},
   "source": [
    "## Visalisations des labyrinthes et des parcours"
   ]
  },
  {
   "cell_type": "markdown",
   "id": "eec5fb95-3549-4604-aa3b-2b51362c3aee",
   "metadata": {},
   "source": [
    "## Analyse Comparative des Performances Algorithmiques"
   ]
  },
  {
   "cell_type": "markdown",
   "id": "87c4c599-ac06-44b3-8cf8-98a79774ba10",
   "metadata": {},
   "source": [
    "### Nos outils de mesures"
   ]
  },
  {
   "cell_type": "markdown",
   "id": "7672c5c4-a93f-4c77-9369-e387efaf84d8",
   "metadata": {},
   "source": [
    "Les métriques relevées permettent d’évaluer et de comparer les performances des algorithmes de génération de labyrinthes selon plusieurs dimensions.\n",
    "\n",
    "Les informations d’identification assurent la traçabilité des expériences. Le champ `timestamp` enregistre la date et l’heure d’exécution, `filename` conserve le nom du fichier produit, `maze_size` indique la taille du labyrinthe, `seed` permet de reproduire la même génération, et `algorithm` identifie la méthode utilisée. Ces données garantissent la reproductibilité et facilitent le suivi de chaque test.\n",
    "\n",
    "Les mesures de performance permettent de comparer l’efficacité temporelle et mémoire des algorithmes. La valeur `generation_time_ms` exprime la durée totale d’exécution en millisecondes, tandis que `ram_peak_mb` donne une estimation de la consommation mémoire maximale observée. Le champ `file_size_bytes` enregistre la taille finale du fichier ASCII produit, ce qui permet d’évaluer l’impact du stockage en fonction de la dimension du labyrinthe.\n",
    "\n",
    "Des métriques spécifiques apportent un éclairage complémentaire selon l’algorithme étudié. Pour le backtracking récursif, `backtrack_count` mesure le nombre de retours en arrière effectués, traduisant la complexité de l’exploration. Pour Kruskal, `edges_processed` quantifie le nombre d’arêtes considérées, ce qui permet de comparer directement la version stricte et la version optimisée. Enfin, `union_find_operations` rend compte du nombre d’opérations internes de la structure Union-Find, indicateur de la charge algorithmique dans l’exécution de Kruskal.\n",
    "\n",
    "L’ensemble de ces métriques permet de comparer les algorithmes sous trois angles complémentaires : la rapidité d’exécution, l’efficacité mémoire et la complexité pratique de leur mise en œuvre. Elles fournissent ainsi une base solide pour analyser les différences de performances entre le backtracking récursif, Kruskal strict et Kruskal optimisé.\n"
   ]
  },
  {
   "cell_type": "markdown",
   "id": "3189d5b7-b648-486b-a816-c789beaa959f",
   "metadata": {},
   "source": [
    "### Les fichiers csv générés"
   ]
  },
  {
   "cell_type": "markdown",
   "id": "85d70189-f801-4346-b090-fde29a8cf71e",
   "metadata": {},
   "source": [
    "**solver_metrics.csv** : Métriques d'évaluation des performances des algorithmes de résolution\n",
    "\n",
    "**constructor_metrics.csv** : Métriques d'évaluation des performances des algorithmes de génération"
   ]
  },
  {
   "cell_type": "markdown",
   "id": "47e8e0fe",
   "metadata": {},
   "source": [
    "### Liste des Labyrinthes Générés \n",
    "\n",
    "**Algorithme de Kruskal**\n",
    "* 100 labyrinthes avec n=10, seeds de 1 à 100\n",
    "* 100 labyrinthes avec n=20, seeds de 1 à 100\n",
    "* 100 labyrinthes avec n=30, seeds de 1 à 100\n",
    "* 99 labyrinthes avec n=40, seeds de 1 à 65 et 67 à 100\n",
    "* 100 labyrinthes avec n=50, seeds de 1 à 100\n",
    "* 50 labyrinthes avec n=100, seeds de 1 à 50\n",
    "* 50 labyrinthes avec n=500, seeds de 1 à 50\n",
    "* 50 labyrinthes avec n=1000, seeds de 1 à 50\n",
    "* 20 labyrinthes avec n=5000, seeds de 1 à 20\n",
    "* 5 labyrinthes avec n=6000, seeds de 66, 28, 150, 1 et 98\n",
    "\n",
    "**Algorithme de Dfs**\n",
    "* 100 labyrinthes avec n=10, seeds de 1 à 100\n",
    "* 100 labyrinthes avec n=20, seeds de 1 à 100\n",
    "* 100 labyrinthes avec n=30, seeds de 1 à 100\n",
    "* 98 labyrinthes avec n=40, seeds de 1 à 65, 67 à 70 et 72 à 100 "
   ]
  },
  {
   "cell_type": "code",
   "execution_count": 141,
   "id": "0fbe90a4-8a62-4880-9f39-4e137047cf6d",
   "metadata": {},
   "outputs": [
    {
     "data": {
      "text/html": [
       "<div>\n",
       "<style scoped>\n",
       "    .dataframe tbody tr th:only-of-type {\n",
       "        vertical-align: middle;\n",
       "    }\n",
       "\n",
       "    .dataframe tbody tr th {\n",
       "        vertical-align: top;\n",
       "    }\n",
       "\n",
       "    .dataframe thead th {\n",
       "        text-align: right;\n",
       "    }\n",
       "</style>\n",
       "<table border=\"1\" class=\"dataframe\">\n",
       "  <thead>\n",
       "    <tr style=\"text-align: right;\">\n",
       "      <th></th>\n",
       "      <th>Kruskal_10</th>\n",
       "      <th>Dfs_10</th>\n",
       "      <th>Kruskal_20</th>\n",
       "      <th>Dfs_20</th>\n",
       "      <th>Kruskal_30</th>\n",
       "      <th>Dfs_30</th>\n",
       "      <th>Kruskal_40</th>\n",
       "      <th>Dfs_40</th>\n",
       "      <th>Kruskal_50</th>\n",
       "      <th>Kruskal_100</th>\n",
       "      <th>Kruskal_500</th>\n",
       "      <th>Kruskal_1000</th>\n",
       "      <th>Kruskal_5000</th>\n",
       "      <th>Kruskal_6000</th>\n",
       "    </tr>\n",
       "  </thead>\n",
       "  <tbody>\n",
       "    <tr>\n",
       "      <th>0</th>\n",
       "      <td>100.0</td>\n",
       "      <td>100.0</td>\n",
       "      <td>100.0</td>\n",
       "      <td>100.0</td>\n",
       "      <td>100.0</td>\n",
       "      <td>100.0</td>\n",
       "      <td>99.0</td>\n",
       "      <td>98.0</td>\n",
       "      <td>100.0</td>\n",
       "      <td>100.0</td>\n",
       "      <td>50.0</td>\n",
       "      <td>50.0</td>\n",
       "      <td>20.0</td>\n",
       "      <td>5.0</td>\n",
       "    </tr>\n",
       "  </tbody>\n",
       "</table>\n",
       "</div>"
      ],
      "text/plain": [
       "   Kruskal_10  Dfs_10  Kruskal_20  Dfs_20  Kruskal_30  Dfs_30  Kruskal_40  \\\n",
       "0       100.0   100.0       100.0   100.0       100.0   100.0        99.0   \n",
       "\n",
       "   Dfs_40  Kruskal_50  Kruskal_100  Kruskal_500  Kruskal_1000  Kruskal_5000  \\\n",
       "0    98.0       100.0        100.0         50.0          50.0          20.0   \n",
       "\n",
       "   Kruskal_6000  \n",
       "0           5.0  "
      ]
     },
     "execution_count": 141,
     "metadata": {},
     "output_type": "execute_result"
    }
   ],
   "source": [
    "df= pd.read_csv(\"constructors_metrics.csv\")\n",
    "\n",
    "df_counting = duckdb.sql(\"\"\" select\n",
    "sum(case when maze_size = 10 and algorithm= 'kruskal' then 1 else 0 end) as Kruskal_10,\n",
    "sum(case when maze_size = 10 and algorithm= 'recursive_backtracking' then 1 else 0 end) as Dfs_10,\n",
    "sum(case when maze_size = 20 and algorithm= 'kruskal' then 1 else 0 end) as Kruskal_20,\n",
    "sum(case when maze_size = 20 and algorithm= 'recursive_backtracking' then 1 else 0 end) as Dfs_20,\n",
    "sum(case when maze_size = 30 and algorithm= 'kruskal' then 1 else 0 end) as Kruskal_30,\n",
    "sum(case when maze_size = 30 and algorithm= 'recursive_backtracking' then 1 else 0 end) as Dfs_30,\n",
    "sum(case when maze_size = 40 and algorithm= 'kruskal' then 1 else 0 end) as Kruskal_40,\n",
    "sum(case when maze_size = 40 and algorithm= 'recursive_backtracking' then 1 else 0 end) as Dfs_40,\n",
    "sum(case when maze_size = 50 and algorithm= 'kruskal' then 1 else 0 end) as Kruskal_50,\n",
    "sum(case when maze_size = 100 and algorithm= 'kruskal' then 1 else 0 end) as Kruskal_100,\n",
    "sum(case when maze_size = 500 and algorithm= 'kruskal' then 1 else 0 end) as Kruskal_500,\n",
    "sum(case when maze_size = 1000 and algorithm= 'kruskal' then 1 else 0 end) as Kruskal_1000,\n",
    "sum(case when maze_size = 5000 and algorithm= 'kruskal' then 1 else 0 end) as Kruskal_5000,\n",
    "sum(case when maze_size = 6000 and algorithm= 'kruskal' then 1 else 0 end) as Kruskal_6000\n",
    "from df \"\"\").df()\n",
    "\n",
    "df_counting"
   ]
  },
  {
   "cell_type": "markdown",
   "id": "567d80f8-65c4-46c8-b9db-1565d4c17147",
   "metadata": {},
   "source": [
    "## Recherche outliers"
   ]
  },
  {
   "cell_type": "markdown",
   "id": "b167a677-6219-4556-97cd-53fc42bb8ff7",
   "metadata": {},
   "source": [
    "#### DFS"
   ]
  },
  {
   "cell_type": "code",
   "execution_count": 142,
   "id": "6366f5db-19ef-4e92-bb6f-2e846e7138b1",
   "metadata": {},
   "outputs": [],
   "source": [
    "# création data frame dfs taille 10\n",
    "df= pd.read_csv(\"constructors_metrics.csv\")\n",
    "df_recursive_maze_10 = duckdb.sql(\"\"\"\n",
    "SELECT * \n",
    "FROM df \n",
    "where maze_size = 10 and algorithm= 'recursive_backtracking'\n",
    "\"\"\").df()"
   ]
  },
  {
   "cell_type": "code",
   "execution_count": 143,
   "id": "de15eb96-db14-4751-89bc-c710ed523e12",
   "metadata": {
    "scrolled": true
   },
   "outputs": [],
   "source": [
    "# Création data frame dfs taille 40\n",
    "df= pd.read_csv(\"constructors_metrics.csv\")\n",
    "df_recursive_maze_40 = duckdb.sql(\"\"\"\n",
    "SELECT * \n",
    "FROM df \n",
    "where maze_size = 40 and algorithm= 'recursive_backtracking'\n",
    "\"\"\").df()"
   ]
  },
  {
   "cell_type": "markdown",
   "id": "35e7a243-b0c6-4e41-84e6-774a4849eee2",
   "metadata": {},
   "source": [
    "#### Vérification des corrélations potentielles avec les autres métriques"
   ]
  },
  {
   "cell_type": "code",
   "execution_count": 144,
   "id": "53004e32-0c56-4139-b88f-e8e3f2244c2b",
   "metadata": {
    "scrolled": true
   },
   "outputs": [
    {
     "data": {
      "text/html": [
       "<div>\n",
       "<style scoped>\n",
       "    .dataframe tbody tr th:only-of-type {\n",
       "        vertical-align: middle;\n",
       "    }\n",
       "\n",
       "    .dataframe tbody tr th {\n",
       "        vertical-align: top;\n",
       "    }\n",
       "\n",
       "    .dataframe thead th {\n",
       "        text-align: right;\n",
       "    }\n",
       "</style>\n",
       "<table border=\"1\" class=\"dataframe\">\n",
       "  <thead>\n",
       "    <tr style=\"text-align: right;\">\n",
       "      <th></th>\n",
       "      <th>timestamp</th>\n",
       "      <th>filename</th>\n",
       "      <th>maze_size</th>\n",
       "      <th>seed</th>\n",
       "      <th>algorithm</th>\n",
       "      <th>generation_time_ms</th>\n",
       "      <th>ram_peak_mb</th>\n",
       "      <th>file_size_bytes</th>\n",
       "      <th>backtrack_count</th>\n",
       "      <th>edges_processed</th>\n",
       "      <th>union_find_operations</th>\n",
       "      <th>metric</th>\n",
       "    </tr>\n",
       "  </thead>\n",
       "  <tbody>\n",
       "    <tr>\n",
       "      <th>0</th>\n",
       "      <td>2025-09-17 19:13:21</td>\n",
       "      <td>recursive_maze_10_50</td>\n",
       "      <td>10.0</td>\n",
       "      <td>50.0</td>\n",
       "      <td>recursive_backtracking</td>\n",
       "      <td>9.92</td>\n",
       "      <td>17.68</td>\n",
       "      <td>483.0</td>\n",
       "      <td>12.0</td>\n",
       "      <td>99.0</td>\n",
       "      <td>0.0</td>\n",
       "      <td>max_time</td>\n",
       "    </tr>\n",
       "    <tr>\n",
       "      <th>1</th>\n",
       "      <td>2025-09-17 19:13:21</td>\n",
       "      <td>recursive_maze_10_43</td>\n",
       "      <td>10.0</td>\n",
       "      <td>43.0</td>\n",
       "      <td>recursive_backtracking</td>\n",
       "      <td>1.63</td>\n",
       "      <td>17.68</td>\n",
       "      <td>483.0</td>\n",
       "      <td>14.0</td>\n",
       "      <td>99.0</td>\n",
       "      <td>0.0</td>\n",
       "      <td>max_ops</td>\n",
       "    </tr>\n",
       "  </tbody>\n",
       "</table>\n",
       "</div>"
      ],
      "text/plain": [
       "             timestamp              filename  maze_size  seed  \\\n",
       "0  2025-09-17 19:13:21  recursive_maze_10_50       10.0  50.0   \n",
       "1  2025-09-17 19:13:21  recursive_maze_10_43       10.0  43.0   \n",
       "\n",
       "                algorithm  generation_time_ms  ram_peak_mb  file_size_bytes  \\\n",
       "0  recursive_backtracking                9.92        17.68            483.0   \n",
       "1  recursive_backtracking                1.63        17.68            483.0   \n",
       "\n",
       "   backtrack_count  edges_processed  union_find_operations    metric  \n",
       "0             12.0             99.0                    0.0  max_time  \n",
       "1             14.0             99.0                    0.0   max_ops  "
      ]
     },
     "execution_count": 144,
     "metadata": {},
     "output_type": "execute_result"
    }
   ],
   "source": [
    "# Vérification pour Dfs 10\n",
    "# temps max\n",
    "max_time = duckdb.sql(\"\"\"\n",
    "    SELECT *,\n",
    "      'max_time'as metric\n",
    "      from df_recursive_maze_10\n",
    "        where generation_time_ms = (select max(generation_time_ms) FROM df_recursive_maze_10)\"\"\").df()\n",
    "\n",
    "\n",
    "\n",
    "# max operations\n",
    "max_ops = duckdb.sql(\"\"\"\n",
    "    SELECT *,\n",
    "      'max_ops'as metric\n",
    "    from df_recursive_maze_10\n",
    "    where backtrack_count = (select max(backtrack_count) FROM df_recursive_maze_10)\"\"\").df()\n",
    "\n",
    "result = duckdb.sql(\"\"\" \n",
    "    select * from max_time\n",
    "    union all\n",
    "    select * from max_ops\n",
    "    \"\"\").df()\n",
    "\n",
    "result"
   ]
  },
  {
   "cell_type": "code",
   "execution_count": 145,
   "id": "6fb11749-cb13-4736-b2c1-ae7c07836744",
   "metadata": {},
   "outputs": [
    {
     "data": {
      "text/html": [
       "<div>\n",
       "<style scoped>\n",
       "    .dataframe tbody tr th:only-of-type {\n",
       "        vertical-align: middle;\n",
       "    }\n",
       "\n",
       "    .dataframe tbody tr th {\n",
       "        vertical-align: top;\n",
       "    }\n",
       "\n",
       "    .dataframe thead th {\n",
       "        text-align: right;\n",
       "    }\n",
       "</style>\n",
       "<table border=\"1\" class=\"dataframe\">\n",
       "  <thead>\n",
       "    <tr style=\"text-align: right;\">\n",
       "      <th></th>\n",
       "      <th>timestamp</th>\n",
       "      <th>filename</th>\n",
       "      <th>maze_size</th>\n",
       "      <th>seed</th>\n",
       "      <th>algorithm</th>\n",
       "      <th>generation_time_ms</th>\n",
       "      <th>ram_peak_mb</th>\n",
       "      <th>file_size_bytes</th>\n",
       "      <th>backtrack_count</th>\n",
       "      <th>edges_processed</th>\n",
       "      <th>union_find_operations</th>\n",
       "      <th>metric</th>\n",
       "    </tr>\n",
       "  </thead>\n",
       "  <tbody>\n",
       "    <tr>\n",
       "      <th>0</th>\n",
       "      <td>2025-09-17 19:21:28</td>\n",
       "      <td>recursive_maze_40_65</td>\n",
       "      <td>40.0</td>\n",
       "      <td>65.0</td>\n",
       "      <td>recursive_backtracking</td>\n",
       "      <td>31.9</td>\n",
       "      <td>18.27</td>\n",
       "      <td>6723.0</td>\n",
       "      <td>157.0</td>\n",
       "      <td>1599.0</td>\n",
       "      <td>0.0</td>\n",
       "      <td>max_time</td>\n",
       "    </tr>\n",
       "    <tr>\n",
       "      <th>1</th>\n",
       "      <td>2025-09-17 19:26:54</td>\n",
       "      <td>recursive_maze_40_79</td>\n",
       "      <td>40.0</td>\n",
       "      <td>79.0</td>\n",
       "      <td>recursive_backtracking</td>\n",
       "      <td>12.3</td>\n",
       "      <td>18.26</td>\n",
       "      <td>6723.0</td>\n",
       "      <td>177.0</td>\n",
       "      <td>1599.0</td>\n",
       "      <td>0.0</td>\n",
       "      <td>max_ops</td>\n",
       "    </tr>\n",
       "  </tbody>\n",
       "</table>\n",
       "</div>"
      ],
      "text/plain": [
       "             timestamp              filename  maze_size  seed  \\\n",
       "0  2025-09-17 19:21:28  recursive_maze_40_65       40.0  65.0   \n",
       "1  2025-09-17 19:26:54  recursive_maze_40_79       40.0  79.0   \n",
       "\n",
       "                algorithm  generation_time_ms  ram_peak_mb  file_size_bytes  \\\n",
       "0  recursive_backtracking                31.9        18.27           6723.0   \n",
       "1  recursive_backtracking                12.3        18.26           6723.0   \n",
       "\n",
       "   backtrack_count  edges_processed  union_find_operations    metric  \n",
       "0            157.0           1599.0                    0.0  max_time  \n",
       "1            177.0           1599.0                    0.0   max_ops  "
      ]
     },
     "execution_count": 145,
     "metadata": {},
     "output_type": "execute_result"
    }
   ],
   "source": [
    "# Vérifiaction pour Dfs 40\n",
    "# temps max\n",
    "max_time = duckdb.sql(\"\"\"\n",
    "    SELECT *,\n",
    "      'max_time'as metric\n",
    "      from df_recursive_maze_40\n",
    "        where generation_time_ms = (select max(generation_time_ms) FROM df_recursive_maze_40)\"\"\").df()\n",
    "\n",
    "\n",
    "\n",
    "# max operations\n",
    "max_ops = duckdb.sql(\"\"\"\n",
    "    SELECT *,\n",
    "      'max_ops'as metric\n",
    "    from df_recursive_maze_40\n",
    "    where backtrack_count = (select max(backtrack_count) FROM df_recursive_maze_40)\"\"\").df()\n",
    "\n",
    "result = duckdb.sql(\"\"\" \n",
    "    select * from max_time\n",
    "    union all\n",
    "    select * from max_ops\n",
    "    \"\"\").df()\n",
    "\n",
    "result"
   ]
  },
  {
   "cell_type": "markdown",
   "id": "f2533dde-f71f-498e-8070-0e30c2103356",
   "metadata": {},
   "source": [
    "### Kruskal"
   ]
  },
  {
   "cell_type": "code",
   "execution_count": 146,
   "id": "dc4731b5-a05e-4e58-ba77-01d19956dd46",
   "metadata": {},
   "outputs": [],
   "source": [
    "# Création dataframe Kruskal 10\n",
    "df= pd.read_csv(\"constructors_metrics.csv\")\n",
    "df_kruskal_10= duckdb.sql(\"\"\"\n",
    "SELECT * \n",
    "FROM df \n",
    "where maze_size = 10 and algorithm= 'kruskal'\n",
    "\"\"\").df()"
   ]
  },
  {
   "cell_type": "code",
   "execution_count": 147,
   "id": "a2558356-bbce-487c-937f-170d768ae92f",
   "metadata": {},
   "outputs": [],
   "source": [
    "# Création dataframe Kruskal 20\n",
    "df= pd.read_csv(\"constructors_metrics.csv\")\n",
    "df_kruskal_20= duckdb.sql(\"\"\"\n",
    "SELECT * \n",
    "FROM df \n",
    "where maze_size = 20 and algorithm= 'kruskal'\n",
    "\"\"\").df()"
   ]
  },
  {
   "cell_type": "code",
   "execution_count": 148,
   "id": "75099b54-3e74-4884-a763-1af52b174d8e",
   "metadata": {},
   "outputs": [],
   "source": [
    "# Création dataframe Kruskal 50\n",
    "df= pd.read_csv(\"constructors_metrics.csv\")\n",
    "df_kruskal_50 = duckdb.sql(\"\"\"\n",
    "SELECT * \n",
    "FROM df \n",
    "where maze_size = 50 and algorithm= 'kruskal'\n",
    "\"\"\").df()"
   ]
  },
  {
   "cell_type": "code",
   "execution_count": 149,
   "id": "cc85b8b3-5f7f-4401-b3e4-1709150b097a",
   "metadata": {},
   "outputs": [],
   "source": [
    "# Création dataframe Kruskal 1000\n",
    "df= pd.read_csv(\"constructors_metrics.csv\")\n",
    "df_kruskal_1000 = duckdb.sql(\"\"\"\n",
    "SELECT * \n",
    "FROM df \n",
    "where maze_size = 1000 and algorithm= 'kruskal'\n",
    "\"\"\").df()"
   ]
  },
  {
   "cell_type": "markdown",
   "id": "0b446ee4-9dae-42db-b056-d42d5bb06d76",
   "metadata": {},
   "source": [
    "### Vérification des corrélations potentielles avec les autres métriques"
   ]
  },
  {
   "cell_type": "code",
   "execution_count": 150,
   "id": "1adc28e0-d556-4f7c-968a-596d19aaf4a2",
   "metadata": {},
   "outputs": [
    {
     "data": {
      "text/html": [
       "<div>\n",
       "<style scoped>\n",
       "    .dataframe tbody tr th:only-of-type {\n",
       "        vertical-align: middle;\n",
       "    }\n",
       "\n",
       "    .dataframe tbody tr th {\n",
       "        vertical-align: top;\n",
       "    }\n",
       "\n",
       "    .dataframe thead th {\n",
       "        text-align: right;\n",
       "    }\n",
       "</style>\n",
       "<table border=\"1\" class=\"dataframe\">\n",
       "  <thead>\n",
       "    <tr style=\"text-align: right;\">\n",
       "      <th></th>\n",
       "      <th>timestamp</th>\n",
       "      <th>filename</th>\n",
       "      <th>maze_size</th>\n",
       "      <th>seed</th>\n",
       "      <th>algorithm</th>\n",
       "      <th>generation_time_ms</th>\n",
       "      <th>ram_peak_mb</th>\n",
       "      <th>file_size_bytes</th>\n",
       "      <th>backtrack_count</th>\n",
       "      <th>edges_processed</th>\n",
       "      <th>union_find_operations</th>\n",
       "      <th>metric</th>\n",
       "    </tr>\n",
       "  </thead>\n",
       "  <tbody>\n",
       "    <tr>\n",
       "      <th>0</th>\n",
       "      <td>2025-09-16 19:01:40</td>\n",
       "      <td>kruskal_strict_10_3.txt</td>\n",
       "      <td>10.0</td>\n",
       "      <td>3.0</td>\n",
       "      <td>kruskal</td>\n",
       "      <td>15.33</td>\n",
       "      <td>17.99</td>\n",
       "      <td>483.0</td>\n",
       "      <td>0.0</td>\n",
       "      <td>180.0</td>\n",
       "      <td>639.0</td>\n",
       "      <td>max_time</td>\n",
       "    </tr>\n",
       "  </tbody>\n",
       "</table>\n",
       "</div>"
      ],
      "text/plain": [
       "             timestamp                 filename  maze_size  seed algorithm  \\\n",
       "0  2025-09-16 19:01:40  kruskal_strict_10_3.txt       10.0   3.0   kruskal   \n",
       "\n",
       "   generation_time_ms  ram_peak_mb  file_size_bytes  backtrack_count  \\\n",
       "0               15.33        17.99            483.0              0.0   \n",
       "\n",
       "   edges_processed  union_find_operations    metric  \n",
       "0            180.0                  639.0  max_time  "
      ]
     },
     "execution_count": 150,
     "metadata": {},
     "output_type": "execute_result"
    }
   ],
   "source": [
    "# Vérification sur Kruskal 10\n",
    "# temps max\n",
    "max_time = duckdb.sql(\"\"\"\n",
    "    SELECT *,\n",
    "      'max_time'as metric\n",
    "      from df_kruskal_10\n",
    "        where generation_time_ms = (select max(generation_time_ms) FROM df_kruskal_10)\"\"\").df()\n",
    "\n",
    "# max operations\n",
    "max_ops = duckdb.sql(\"\"\"\n",
    "    SELECT *,\n",
    "      'max_ops'as metric\n",
    "    from df_kruskal_50\n",
    "    where union_find_operations = (select max(union_find_operations) FROM df_kruskal_10)\"\"\").df()\n",
    "\n",
    "result = duckdb.sql(\"\"\" \n",
    "    select * from max_time\n",
    "    union all\n",
    "    select * from max_ops\n",
    "    \"\"\").df()\n",
    "\n",
    "result"
   ]
  },
  {
   "cell_type": "code",
   "execution_count": 151,
   "id": "d3513600-7172-48c4-8b7d-81e5ee6920fd",
   "metadata": {},
   "outputs": [
    {
     "data": {
      "text/html": [
       "<div>\n",
       "<style scoped>\n",
       "    .dataframe tbody tr th:only-of-type {\n",
       "        vertical-align: middle;\n",
       "    }\n",
       "\n",
       "    .dataframe tbody tr th {\n",
       "        vertical-align: top;\n",
       "    }\n",
       "\n",
       "    .dataframe thead th {\n",
       "        text-align: right;\n",
       "    }\n",
       "</style>\n",
       "<table border=\"1\" class=\"dataframe\">\n",
       "  <thead>\n",
       "    <tr style=\"text-align: right;\">\n",
       "      <th></th>\n",
       "      <th>timestamp</th>\n",
       "      <th>filename</th>\n",
       "      <th>maze_size</th>\n",
       "      <th>seed</th>\n",
       "      <th>algorithm</th>\n",
       "      <th>generation_time_ms</th>\n",
       "      <th>ram_peak_mb</th>\n",
       "      <th>file_size_bytes</th>\n",
       "      <th>backtrack_count</th>\n",
       "      <th>edges_processed</th>\n",
       "      <th>union_find_operations</th>\n",
       "      <th>metric</th>\n",
       "    </tr>\n",
       "  </thead>\n",
       "  <tbody>\n",
       "    <tr>\n",
       "      <th>0</th>\n",
       "      <td>2025-09-20 13:18:10</td>\n",
       "      <td>kruskal_strict_20_5.txt</td>\n",
       "      <td>20.0</td>\n",
       "      <td>5.0</td>\n",
       "      <td>kruskal</td>\n",
       "      <td>15.53</td>\n",
       "      <td>17.94</td>\n",
       "      <td>1763.0</td>\n",
       "      <td>0.0</td>\n",
       "      <td>760.0</td>\n",
       "      <td>2858.0</td>\n",
       "      <td>max_time</td>\n",
       "    </tr>\n",
       "    <tr>\n",
       "      <th>1</th>\n",
       "      <td>2025-09-20 13:18:10</td>\n",
       "      <td>kruskal_strict_20_24.txt</td>\n",
       "      <td>20.0</td>\n",
       "      <td>24.0</td>\n",
       "      <td>kruskal</td>\n",
       "      <td>2.43</td>\n",
       "      <td>17.95</td>\n",
       "      <td>1763.0</td>\n",
       "      <td>0.0</td>\n",
       "      <td>760.0</td>\n",
       "      <td>3212.0</td>\n",
       "      <td>max_ops</td>\n",
       "    </tr>\n",
       "  </tbody>\n",
       "</table>\n",
       "</div>"
      ],
      "text/plain": [
       "             timestamp                  filename  maze_size  seed algorithm  \\\n",
       "0  2025-09-20 13:18:10   kruskal_strict_20_5.txt       20.0   5.0   kruskal   \n",
       "1  2025-09-20 13:18:10  kruskal_strict_20_24.txt       20.0  24.0   kruskal   \n",
       "\n",
       "   generation_time_ms  ram_peak_mb  file_size_bytes  backtrack_count  \\\n",
       "0               15.53        17.94           1763.0              0.0   \n",
       "1                2.43        17.95           1763.0              0.0   \n",
       "\n",
       "   edges_processed  union_find_operations    metric  \n",
       "0            760.0                 2858.0  max_time  \n",
       "1            760.0                 3212.0   max_ops  "
      ]
     },
     "execution_count": 151,
     "metadata": {},
     "output_type": "execute_result"
    }
   ],
   "source": [
    "# Vérification sur Kruskal 20\n",
    "# temps max\n",
    "max_time = duckdb.sql(\"\"\"\n",
    "    SELECT *,\n",
    "      'max_time'as metric\n",
    "      from df_kruskal_20\n",
    "        where generation_time_ms = (select max(generation_time_ms) FROM df_kruskal_20)\"\"\").df()\n",
    "\n",
    "# max operations\n",
    "max_ops = duckdb.sql(\"\"\"\n",
    "    SELECT *,\n",
    "      'max_ops'as metric\n",
    "    from df_kruskal_20\n",
    "    where union_find_operations = (select max(union_find_operations) FROM df_kruskal_20)\"\"\").df()\n",
    "\n",
    "result = duckdb.sql(\"\"\" \n",
    "    select * from max_time\n",
    "    union all\n",
    "    select * from max_ops\n",
    "    \"\"\").df()\n",
    "\n",
    "result"
   ]
  },
  {
   "cell_type": "code",
   "execution_count": 152,
   "id": "5d70ba13-34ff-46df-8f36-69c482255925",
   "metadata": {},
   "outputs": [
    {
     "data": {
      "text/html": [
       "<div>\n",
       "<style scoped>\n",
       "    .dataframe tbody tr th:only-of-type {\n",
       "        vertical-align: middle;\n",
       "    }\n",
       "\n",
       "    .dataframe tbody tr th {\n",
       "        vertical-align: top;\n",
       "    }\n",
       "\n",
       "    .dataframe thead th {\n",
       "        text-align: right;\n",
       "    }\n",
       "</style>\n",
       "<table border=\"1\" class=\"dataframe\">\n",
       "  <thead>\n",
       "    <tr style=\"text-align: right;\">\n",
       "      <th></th>\n",
       "      <th>timestamp</th>\n",
       "      <th>filename</th>\n",
       "      <th>maze_size</th>\n",
       "      <th>seed</th>\n",
       "      <th>algorithm</th>\n",
       "      <th>generation_time_ms</th>\n",
       "      <th>ram_peak_mb</th>\n",
       "      <th>file_size_bytes</th>\n",
       "      <th>backtrack_count</th>\n",
       "      <th>edges_processed</th>\n",
       "      <th>union_find_operations</th>\n",
       "      <th>metric</th>\n",
       "    </tr>\n",
       "  </thead>\n",
       "  <tbody>\n",
       "    <tr>\n",
       "      <th>0</th>\n",
       "      <td>2025-09-16 19:01:40</td>\n",
       "      <td>kruskal_strict_50_17.txt</td>\n",
       "      <td>50.0</td>\n",
       "      <td>17.0</td>\n",
       "      <td>kruskal</td>\n",
       "      <td>47.26</td>\n",
       "      <td>18.96</td>\n",
       "      <td>10403.0</td>\n",
       "      <td>0.0</td>\n",
       "      <td>4900.0</td>\n",
       "      <td>20906.0</td>\n",
       "      <td>max_time</td>\n",
       "    </tr>\n",
       "    <tr>\n",
       "      <th>1</th>\n",
       "      <td>2025-09-16 19:01:41</td>\n",
       "      <td>kruskal_strict_50_86.txt</td>\n",
       "      <td>50.0</td>\n",
       "      <td>86.0</td>\n",
       "      <td>kruskal</td>\n",
       "      <td>10.41</td>\n",
       "      <td>18.97</td>\n",
       "      <td>10403.0</td>\n",
       "      <td>0.0</td>\n",
       "      <td>4900.0</td>\n",
       "      <td>21611.0</td>\n",
       "      <td>max_ops</td>\n",
       "    </tr>\n",
       "  </tbody>\n",
       "</table>\n",
       "</div>"
      ],
      "text/plain": [
       "             timestamp                  filename  maze_size  seed algorithm  \\\n",
       "0  2025-09-16 19:01:40  kruskal_strict_50_17.txt       50.0  17.0   kruskal   \n",
       "1  2025-09-16 19:01:41  kruskal_strict_50_86.txt       50.0  86.0   kruskal   \n",
       "\n",
       "   generation_time_ms  ram_peak_mb  file_size_bytes  backtrack_count  \\\n",
       "0               47.26        18.96          10403.0              0.0   \n",
       "1               10.41        18.97          10403.0              0.0   \n",
       "\n",
       "   edges_processed  union_find_operations    metric  \n",
       "0           4900.0                20906.0  max_time  \n",
       "1           4900.0                21611.0   max_ops  "
      ]
     },
     "execution_count": 152,
     "metadata": {},
     "output_type": "execute_result"
    }
   ],
   "source": [
    "# Vérification sur Kruskal 50\n",
    "# temps max\n",
    "max_time = duckdb.sql(\"\"\"\n",
    "    SELECT *,\n",
    "      'max_time'as metric\n",
    "      from df_kruskal_50\n",
    "        where generation_time_ms = (select max(generation_time_ms) FROM df_kruskal_50)\"\"\").df()\n",
    "\n",
    "# max operations\n",
    "max_ops = duckdb.sql(\"\"\"\n",
    "    SELECT *,\n",
    "      'max_ops'as metric\n",
    "    from df_kruskal_50\n",
    "    where union_find_operations = (select max(union_find_operations) FROM df_kruskal_50)\"\"\").df()\n",
    "\n",
    "result = duckdb.sql(\"\"\" \n",
    "    select * from max_time\n",
    "    union all\n",
    "    select * from max_ops\n",
    "    \"\"\").df()\n",
    "\n",
    "result"
   ]
  },
  {
   "cell_type": "code",
   "execution_count": 153,
   "id": "131ae4a9-382b-4c60-8e7e-5bd7a8556f6c",
   "metadata": {
    "scrolled": true
   },
   "outputs": [
    {
     "data": {
      "text/html": [
       "<div>\n",
       "<style scoped>\n",
       "    .dataframe tbody tr th:only-of-type {\n",
       "        vertical-align: middle;\n",
       "    }\n",
       "\n",
       "    .dataframe tbody tr th {\n",
       "        vertical-align: top;\n",
       "    }\n",
       "\n",
       "    .dataframe thead th {\n",
       "        text-align: right;\n",
       "    }\n",
       "</style>\n",
       "<table border=\"1\" class=\"dataframe\">\n",
       "  <thead>\n",
       "    <tr style=\"text-align: right;\">\n",
       "      <th></th>\n",
       "      <th>timestamp</th>\n",
       "      <th>filename</th>\n",
       "      <th>maze_size</th>\n",
       "      <th>seed</th>\n",
       "      <th>algorithm</th>\n",
       "      <th>generation_time_ms</th>\n",
       "      <th>ram_peak_mb</th>\n",
       "      <th>file_size_bytes</th>\n",
       "      <th>backtrack_count</th>\n",
       "      <th>edges_processed</th>\n",
       "      <th>union_find_operations</th>\n",
       "      <th>metric</th>\n",
       "    </tr>\n",
       "  </thead>\n",
       "  <tbody>\n",
       "    <tr>\n",
       "      <th>0</th>\n",
       "      <td>2025-09-16 19:14:33</td>\n",
       "      <td>kruskal_strict_1000_39.txt</td>\n",
       "      <td>1000.0</td>\n",
       "      <td>39.0</td>\n",
       "      <td>kruskal</td>\n",
       "      <td>198485.63</td>\n",
       "      <td>294.39</td>\n",
       "      <td>4008003.0</td>\n",
       "      <td>0.0</td>\n",
       "      <td>1998000.0</td>\n",
       "      <td>8807356.0</td>\n",
       "      <td>max_time</td>\n",
       "    </tr>\n",
       "    <tr>\n",
       "      <th>1</th>\n",
       "      <td>2025-09-16 19:11:22</td>\n",
       "      <td>kruskal_strict_1000_16.txt</td>\n",
       "      <td>1000.0</td>\n",
       "      <td>16.0</td>\n",
       "      <td>kruskal</td>\n",
       "      <td>8018.94</td>\n",
       "      <td>298.02</td>\n",
       "      <td>4008003.0</td>\n",
       "      <td>0.0</td>\n",
       "      <td>1998000.0</td>\n",
       "      <td>8720812.0</td>\n",
       "      <td>max_ram</td>\n",
       "    </tr>\n",
       "    <tr>\n",
       "      <th>2</th>\n",
       "      <td>2025-09-16 19:11:05</td>\n",
       "      <td>kruskal_strict_1000_14.txt</td>\n",
       "      <td>1000.0</td>\n",
       "      <td>14.0</td>\n",
       "      <td>kruskal</td>\n",
       "      <td>8073.97</td>\n",
       "      <td>296.01</td>\n",
       "      <td>4008003.0</td>\n",
       "      <td>0.0</td>\n",
       "      <td>1998000.0</td>\n",
       "      <td>8922923.0</td>\n",
       "      <td>max_ops</td>\n",
       "    </tr>\n",
       "  </tbody>\n",
       "</table>\n",
       "</div>"
      ],
      "text/plain": [
       "             timestamp                    filename  maze_size  seed algorithm  \\\n",
       "0  2025-09-16 19:14:33  kruskal_strict_1000_39.txt     1000.0  39.0   kruskal   \n",
       "1  2025-09-16 19:11:22  kruskal_strict_1000_16.txt     1000.0  16.0   kruskal   \n",
       "2  2025-09-16 19:11:05  kruskal_strict_1000_14.txt     1000.0  14.0   kruskal   \n",
       "\n",
       "   generation_time_ms  ram_peak_mb  file_size_bytes  backtrack_count  \\\n",
       "0           198485.63       294.39        4008003.0              0.0   \n",
       "1             8018.94       298.02        4008003.0              0.0   \n",
       "2             8073.97       296.01        4008003.0              0.0   \n",
       "\n",
       "   edges_processed  union_find_operations    metric  \n",
       "0        1998000.0              8807356.0  max_time  \n",
       "1        1998000.0              8720812.0   max_ram  \n",
       "2        1998000.0              8922923.0   max_ops  "
      ]
     },
     "execution_count": 153,
     "metadata": {},
     "output_type": "execute_result"
    }
   ],
   "source": [
    "# Vérification sur Kruskal 1000\n",
    "# temps max\n",
    "max_time = duckdb.sql(\"\"\"\n",
    "    SELECT *,\n",
    "      'max_time'as metric\n",
    "      from df_kruskal_1000\n",
    "        where generation_time_ms = (select max(generation_time_ms) FROM df_kruskal_1000)\"\"\").df()\n",
    "\n",
    "# max ram\n",
    "max_ram = duckdb.sql(\"\"\"\n",
    "    SELECT *,\n",
    "      'max_ram'as metric\n",
    "    from df_kruskal_1000\n",
    "    where ram_peak_mb = (select max(ram_peak_mb) FROM df_kruskal_1000)\"\"\").df()\n",
    "\n",
    "# max operations\n",
    "max_ops = duckdb.sql(\"\"\"\n",
    "    SELECT *,\n",
    "      'max_ops'as metric\n",
    "    from df_kruskal_1000\n",
    "    where union_find_operations = (select max(union_find_operations) FROM df_kruskal_1000)\"\"\").df()\n",
    "\n",
    "result = duckdb.sql(\"\"\" \n",
    "    select * from max_time\n",
    "    union all\n",
    "    select * from max_ram\n",
    "    union all\n",
    "    select * from max_ops\n",
    "    \"\"\").df()\n",
    "\n",
    "result"
   ]
  },
  {
   "cell_type": "markdown",
   "id": "4360291b-8497-4f17-9c54-cbd28a167c39",
   "metadata": {},
   "source": [
    "#### Traitement: les outliers generation_time_ms sont fixés à la moyenne de generation_time_ms "
   ]
  },
  {
   "cell_type": "code",
   "execution_count": 175,
   "id": "2f08910c-f2b8-4b80-9cab-6d2392a18651",
   "metadata": {},
   "outputs": [],
   "source": [
    "df_clean = duckdb.sql(\"\"\"\n",
    "SELECT \n",
    "    filename,\n",
    "    algorithm,\n",
    "    union_find_operations, \n",
    "    backtrack_count,\n",
    "    timestamp,\n",
    "    maze_size,\n",
    "    ram_peak_mb,\n",
    "    CASE \n",
    "        WHEN filename = 'kruskal_strict_20_5.txt' THEN \n",
    "            (SELECT mean(generation_time_ms) FROM df WHERE maze_size = 20 AND algorithm = 'kruskal')\n",
    "        WHEN filename = 'kruskal_strict_10_3.txt' THEN \n",
    "            (SELECT mean(generation_time_ms) FROM df WHERE maze_size = 10 AND algorithm = 'kruskal')\n",
    "        WHEN filename = 'kruskal_strict_1000_39.txt' THEN \n",
    "            (SELECT mean(generation_time_ms) FROM df WHERE maze_size = 1000 AND algorithm = 'kruskal')\n",
    "        WHEN filename = 'recursive_maze_10_50' THEN \n",
    "            (SELECT mean(generation_time_ms) FROM df WHERE maze_size = 10 AND algorithm = 'recursive_backtracking')\n",
    "        WHEN filename = 'recursive_maze_40_65' THEN \n",
    "            (SELECT mean(generation_time_ms) FROM df WHERE maze_size = 40 AND algorithm = 'recursive_backtracking')\n",
    "        ELSE generation_time_ms\n",
    "    END as generation_time_ms\n",
    "FROM df\n",
    "\"\"\").df()"
   ]
  },
  {
   "cell_type": "markdown",
   "id": "ba5c47dc-fd7e-4fa5-b38e-35e19953a072",
   "metadata": {},
   "source": [
    "### Analyse des outliers\n",
    "\n",
    "#### Observations\n",
    "Les pics de RAM les plus importants sont toujours sur les derniers enregistrements d'une série pour Kruskal et Recursive Backtracking.\n",
    "\n",
    "#### Outliers détectés\n",
    "**Kruskal** (3 outliers) : Kruskal_10 (15.33 ms), Kruskal_50 (47.26 ms), Kruskal_1000 (198,485.63 ms)\n",
    "\n",
    "**Recursive Backtracking** (2 outliers) : Recursive_maze_40 (31.9 ms), Recursive_maze_10 (9.92 ms)\n",
    "\n",
    "#### Traitement\n",
    "Nous n'avons constaté aucune corrélation entre ces temps d'exécution excessifs et les autres métriques. L'origine des outliers n'étant pas expliquée, remplacement par la moyenne de generation_time_ms."
   ]
  },
  {
   "cell_type": "markdown",
   "id": "cf9ca3a2-1d32-4a04-b5a8-b3e70e2aed8a",
   "metadata": {},
   "source": [
    "## Visualisation\n",
    "### Analyse des Formes de Courbes : Kruskal vs Recursive Backtracking"
   ]
  },
  {
   "cell_type": "code",
   "execution_count": 155,
   "id": "9797ffa5-801e-41ac-8d44-1604e7f9a4bf",
   "metadata": {},
   "outputs": [
    {
     "data": {
      "image/png": "[encoded data removed]",
      "text/plain": [
       "<Figure size 1000x400 with 1 Axes>"
      ]
     },
     "metadata": {},
     "output_type": "display_data"
    }
   ],
   "source": [
    "# Calcul des moyennes par taille et algorithme (tailles 10 à 40 inclus)\n",
    "moyennes = duckdb.sql(\"\"\"\n",
    "SELECT \n",
    "    algorithm,\n",
    "    maze_size,\n",
    "    AVG(generation_time_ms) as avg_time\n",
    "FROM df_clean\n",
    "WHERE maze_size >= 10 AND maze_size <= 40\n",
    "GROUP BY algorithm, maze_size\n",
    "ORDER BY algorithm, maze_size\n",
    "\"\"\").df()\n",
    "\n",
    "# Séparation des données par algorithme\n",
    "kruskal = moyennes[moyennes['algorithm'] == 'kruskal']\n",
    "dfs = moyennes[moyennes['algorithm'] == 'recursive_backtracking']\n",
    "\n",
    "# Création du graphique\n",
    "plt.figure(figsize=(10, 4))\n",
    "\n",
    "plt.plot(kruskal['maze_size'], kruskal['avg_time'], \n",
    "         'o-', linewidth=2, markersize=8, label='Kruskal', color='green')\n",
    "plt.plot(dfs['maze_size'], dfs['avg_time'], \n",
    "         's-', linewidth=2, markersize=8, label='Recursive Backtracking', color='red')\n",
    "\n",
    "plt.xlabel('Taille du labyrinthe (n×n)', fontsize=12)\n",
    "plt.ylabel('Temps de génération moyen (ms)', fontsize=12)\n",
    "plt.title('Évolution des temps de génération par algorithme (Tailles 10-40)', fontsize=14, fontweight='bold')\n",
    "plt.legend(fontsize=12)\n",
    "plt.grid(True, alpha=0.3)\n",
    "\n",
    "# Affichage des valeurs sur les points\n",
    "for i, row in kruskal.iterrows():\n",
    "    plt.annotate(f'{row[\"avg_time\"]:.1f}ms', \n",
    "                (row['maze_size'], row['avg_time']), \n",
    "                textcoords=\"offset points\", xytext=(0,10), ha='center', \n",
    "                fontsize=9, color='green')\n",
    "\n",
    "for i, row in dfs.iterrows():\n",
    "    plt.annotate(f'{row[\"avg_time\"]:.1f}ms', \n",
    "                (row['maze_size'], row['avg_time']), \n",
    "                textcoords=\"offset points\", xytext=(0,-15), ha='center', \n",
    "                fontsize=9, color='red')\n",
    "\n",
    "plt.tight_layout()\n",
    "plt.show()\n"
   ]
  },
  {
   "cell_type": "markdown",
   "id": "78040fb8-8107-4253-bef5-6a3701a326a8",
   "metadata": {},
   "source": [
    "### Cohérences Observées\n",
    "\n",
    "**Formes des courbes** :\n",
    "- **Kruskal** (vert) : Courbe légèrement concave, caractéristique d'une croissance O(n² log n)\n",
    "- **DFS** (rouge) : Courbe plus linéaire sur cette échelle, typique d'une croissance O(n²)\n",
    "\n",
    "**Évolution des écarts** :\n",
    "- À n=10 : Quasi-égalité (1.4ms vs 1.5ms)\n",
    "- À n=20 : Écart qui se creuse (2.3ms vs 2.8ms)\n",
    "- À n=30 : Divergence marquée (4.1ms vs 6.5ms)\n",
    "- À n=40 : Écart maximal mais qui se stabilise relativement (7.7ms vs 9.8ms)\n",
    "\n",
    "**Points remarquables** :\n",
    "- Le **croisement initial** où DFS est légèrement plus lent dès n=10\n",
    "- La **divergence progressive** qui s'accentue jusqu'à n=30\n",
    "- La **stabilisation relative** à n=40, suggérant que l'écart proportionnel se maintient\n",
    "\n",
    "#### Conclusion\n",
    "\n",
    "Cette visualisation illustre parfaitement le paradoxe théorie/pratique : Kruskal, malgré sa complexité O(n² log n) supérieure, reste constamment plus performant que DFS O(n²) sur toute la plage testée. Les formes des courbes valident les complexités théoriques, mais révèlent l'impact déterminant des constantes cachées et des optimisations d'implémentation en algorithmique pratique."
   ]
  },
  {
   "cell_type": "markdown",
   "id": "34de8c8c-e8c8-47af-be87-325f28c21db3",
   "metadata": {},
   "source": [
    "### Evolution de du temps de génération pour Kruskal"
   ]
  },
  {
   "cell_type": "code",
   "execution_count": 156,
   "id": "fb6623db-3977-45e5-9417-2f67cf6bfd01",
   "metadata": {
    "scrolled": true
   },
   "outputs": [
    {
     "data": {
      "image/png": "[encoded data removed]",
      "text/plain": [
       "<Figure size 1200x500 with 1 Axes>"
      ]
     },
     "metadata": {},
     "output_type": "display_data"
    }
   ],
   "source": [
    "# Calcul des moyennes pour Kruskal uniquement sur les tailles spécifiées\n",
    "moyennes_kruskal = duckdb.sql(\"\"\"\n",
    "SELECT \n",
    "    maze_size,\n",
    "    AVG(generation_time_ms) as avg_time\n",
    "FROM df_clean\n",
    "WHERE algorithm = 'kruskal' \n",
    "AND maze_size IN (10, 50, 100, 500, 1000, 5000, 6000)\n",
    "GROUP BY maze_size\n",
    "ORDER BY maze_size\n",
    "\"\"\").df()\n",
    "\n",
    "# Création du graphique\n",
    "plt.figure(figsize=(12, 5))\n",
    "\n",
    "plt.plot(moyennes_kruskal['maze_size'], moyennes_kruskal['avg_time'], \n",
    "         'o-', linewidth=3, markersize=10, label='Kruskal O(n² log n)', color='#2E8B57')\n",
    "\n",
    "plt.xlabel('Taille du labyrinthe (n×n)', fontsize=14, fontweight='bold')\n",
    "plt.ylabel('Temps de génération moyen (ms)', fontsize=14, fontweight='bold')\n",
    "plt.title('Évolution de Kruskal sur Grandes Tailles', fontsize=16, fontweight='bold')\n",
    "plt.grid(True, alpha=0.3)\n",
    "\n",
    "# Échelle logarithmique sur l'axe Y pour mieux visualiser la progression\n",
    "plt.yscale('log')\n",
    "\n",
    "# Affichage des valeurs sur les points\n",
    "for i, row in moyennes_kruskal.iterrows():\n",
    "    if row['avg_time'] < 100:\n",
    "        plt.annotate(f'{row[\"avg_time\"]:.1f}ms', \n",
    "                    (row['maze_size'], row['avg_time']), \n",
    "                    textcoords=\"offset points\", xytext=(0,15), ha='center', \n",
    "                    fontsize=11, fontweight='bold', color='#2E8B57')\n",
    "    else:\n",
    "        plt.annotate(f'{row[\"avg_time\"]:.0f}ms', \n",
    "                    (row['maze_size'], row['avg_time']), \n",
    "                    textcoords=\"offset points\", xytext=(0,15), ha='center', \n",
    "                    fontsize=11, fontweight='bold', color='#2E8B57')\n",
    "\n",
    "plt.tight_layout()\n",
    "plt.show()"
   ]
  },
  {
   "cell_type": "markdown",
   "id": "0dff1aca-a208-4948-8ab4-66b6c7bea48d",
   "metadata": {},
   "source": [
    "### Analyse de la Cohérence des Résultats entre n = 1000 et n = 5000\n",
    "\n",
    "#### 1. Rappel des valeurs observées\n",
    "- **Temps à n = 1000** : 8 684 ms\n",
    "- **Temps à n = 5000** : 395 461 ms\n",
    "- **Ratio observé** : 45,5x\n",
    "\n",
    "#### 2. Complexité théorique de Kruskal\n",
    "L'algorithme de Kruskal a une complexité théorique de **O(n² log n)**\n",
    "\n",
    "**Explication** :\n",
    "- Le ratio théorique est d'environ **30,75x** entre n = 1000 et n = 5000\n",
    "- Le ratio observé de **45,5x** est supérieur, mais reste cohérent dans un contexte pratique\n",
    "\n",
    "#### 3. Pourquoi un ratio observé plus élevé ?\n",
    "Plusieurs facteurs pratiques expliquent ce ratio plus élevé :\n",
    "\n",
    "**Garbage Collection (GC)** :\n",
    "- En Python, le GC introduit des latences supplémentaires\n",
    "- Ces latences augmentent avec la taille des données\n",
    "- Impact : gonflement artificiel du temps d'exécution\n",
    "\n",
    "**Gestion Mémoire** :\n",
    "- Pour n = 5000, la mémoire utilisée est beaucoup plus importante\n",
    "- Les accès mémoire deviennent plus coûteux\n",
    "- Impact : dépassement des caches CPU, réallocations fréquentes\n",
    "\n",
    "#### 4. Conclusion sur la cohérence\n",
    "- Le ratio de 45,5x est cohérent avec O(n² log n)\n",
    "- Prise en compte des surcoûts pratiques (GC, gestion mémoire)\n",
    "- Les résultats observés sont raisonnables en environnement Python réel\n",
    "\n",
    "**En résumé** :\n",
    "*\"Le ratio de 45,5x entre n = 1000 et n = 5000 est cohérent avec la complexité théorique O(n² log n), en intégrant les surcoûts pratiques liés à l'implémentation en Python.\"*"
   ]
  },
  {
   "cell_type": "markdown",
   "id": "c3298fd4-5570-4795-a5e2-60fcfc64bb99",
   "metadata": {},
   "source": [
    "### Comparaison des complexités internes : Recursive Backtracking vs Kruskal/Union-Find"
   ]
  },
  {
   "cell_type": "code",
   "execution_count": 173,
   "id": "7323ba2b-f1ac-44f5-8f8b-89397b8d36ec",
   "metadata": {
    "scrolled": true
   },
   "outputs": [
    {
     "data": {
      "image/png": "[encoded data removed]",
      "text/plain": [
       "<Figure size 1200x400 with 1 Axes>"
      ]
     },
     "metadata": {},
     "output_type": "display_data"
    }
   ],
   "source": [
    "df_ops = duckdb.sql(\"\"\"\n",
    "    SELECT \n",
    "        maze_size, \n",
    "        algorithm, \n",
    "        AVG(CASE \n",
    "            WHEN algorithm = 'recursive_backtracking' THEN backtrack_count \n",
    "            WHEN algorithm = 'kruskal' THEN union_find_operations \n",
    "        END) AS avg_ops\n",
    "    FROM df_clean \n",
    "    WHERE maze_size <= 40\n",
    "    GROUP BY maze_size, algorithm\n",
    "    ORDER BY maze_size, algorithm\n",
    "\"\"\").df()\n",
    "\n",
    "pivot_df = df_ops.pivot(index='maze_size', columns='algorithm', values='avg_ops')\n",
    "\n",
    "# Tracer avec des courbes\n",
    "plt.figure(figsize=(12, 4))\n",
    "plt.plot(pivot_df.index, pivot_df['recursive_backtracking'], 'o-', \n",
    "         label='Recursive Backtracking (backtracks)', linewidth=2, markersize=6, color='blue')\n",
    "plt.plot(pivot_df.index, pivot_df['kruskal'], 's-', \n",
    "         label='Kruskal/Union-Find (opérations)', linewidth=2, markersize=6, color='red')\n",
    "\n",
    "plt.xlabel('Taille du labyrinthe (n x n)')\n",
    "plt.ylabel('Nombre moyen d\\'opérations')\n",
    "plt.title('Complexité interne des algorithmes de génération de labyrinthes')\n",
    "plt.legend()\n",
    "plt.grid(True, alpha=0.3)\n",
    "plt.xticks(pivot_df.index)\n",
    "\n",
    "# Ajouter des annotations pour les valeurs (optionnel)\n",
    "for algo in ['recursive_backtracking', 'kruskal']:\n",
    "    for i, value in enumerate(pivot_df[algo]):\n",
    "        plt.annotate(f'{value:.0f}', \n",
    "                    (pivot_df.index[i], pivot_df[algo].iloc[i]),\n",
    "                    textcoords=\"offset points\",\n",
    "                    xytext=(0,10),\n",
    "                    ha='center',\n",
    "                    fontsize=8)\n",
    "\n",
    "plt.tight_layout()\n",
    "plt.show()"
   ]
  },
  {
   "cell_type": "markdown",
   "id": "5980bf7c-59e9-40f1-9842-8fc86d8ce5cf",
   "metadata": {},
   "source": [
    "### Analyse de la cohérence\n",
    "\n",
    "#### 1. Recursive Backtracking (courbe bleue)\n",
    "Le nombre de backtracks reste très faible, presque constant, malgré l'augmentation de la taille du labyrinthe.\n",
    "Cela semble cohérent, car l'algorithme de Recursive Backtracking utilise une approche récursive qui explore les chemins possibles et revient en arrière (backtrack) lorsqu'il atteint une impasse. Le nombre de backtracks dépend davantage de la structure du labyrinthe que de sa taille absolue.\n",
    "\n",
    "#### 2. Kruskal/Union-Find (courbe rouge)\n",
    "Le nombre d'opérations augmente de manière quadratique avec la taille du labyrinthe.\n",
    "Cela est également cohérent, car l'algorithme de Kruskal utilise une structure Union-Find pour gérer les ensembles de cases. Le nombre d'opérations est lié au nombre total de murs à traiter, qui augmente avec la taille du labyrinthe. Pour un labyrinthe de taille \\( n \\times n \\), le nombre de murs est de l'ordre de \\( O(n^2) \\).\n",
    "\n",
    "#### 3. Comparaison globale\n",
    "La courbe rouge (Kruskal) montre une croissance quadratique, ce qui est attendu pour un algorithme dont la complexité est liée au nombre total d'éléments (murs) dans le labyrinthe.\n",
    "La courbe bleue (Recursive Backtracking) reste stable, ce qui est logique car le nombre de backtracks ne dépend pas directement de la taille du labyrinthe, mais plutôt de la complexité des chemins explorés.\n",
    "\n",
    "#### Conclusion\n",
    "Le graphique semble cohérent avec les comportements théoriques attendus des deux algorithmes. Il illustre bien la différence de complexité interne entre une approche récursive et une approche basée sur des opérations de type Union-Find.\n"
   ]
  },
  {
   "cell_type": "code",
   "execution_count": 190,
   "id": "3c500fa2-6ad5-4255-a609-c00d89e91e25",
   "metadata": {},
   "outputs": [
    {
     "data": {
      "image/png": "[encoded data removed]",
      "text/plain": [
       "<Figure size 1200x400 with 1 Axes>"
      ]
     },
     "metadata": {},
     "output_type": "display_data"
    }
   ],
   "source": [
    "import duckdb\n",
    "import matplotlib.pyplot as plt\n",
    "\n",
    "# Récupérer les données pour Kruskal uniquement, et filtrer les tailles souhaitées\n",
    "df_mem = duckdb.sql(\"\"\"\n",
    "    SELECT\n",
    "        maze_size,\n",
    "        AVG(ram_peak_mb) AS avg_ram_peak_mb\n",
    "    FROM df_clean\n",
    "    WHERE algorithm = 'kruskal'\n",
    "      AND maze_size IN (10, 50, 500, 1000, 5000, 6000)\n",
    "    GROUP BY maze_size\n",
    "    ORDER BY maze_size\n",
    "\"\"\").df()\n",
    "\n",
    "# Extraire les tailles et les valeurs moyennes\n",
    "maze_sizes = df_mem['maze_size'].tolist()\n",
    "ram_peak_mb = df_mem['avg_ram_peak_mb'].tolist()\n",
    "\n",
    "# Création du graphique en barres\n",
    "plt.figure(figsize=(12, 4))\n",
    "\n",
    "# Utiliser un index numérique pour l'axe X\n",
    "x_pos = range(len(maze_sizes))\n",
    "\n",
    "# Tracer les barres avec une largeur visible\n",
    "bars = plt.bar(x_pos, ram_peak_mb, color='orange', width=0.5)\n",
    "\n",
    "# Personnalisation du graphique\n",
    "plt.xlabel('Taille du labyrinthe (n x n)')\n",
    "plt.ylabel('Utilisation mémoire moyenne (Mo)')\n",
    "plt.title('Utilisation mémoire de l\\'algorithme Kruskal pour les grandes tailles de labyrinthe')\n",
    "\n",
    "# Remplacer les labels de l'axe X par les tailles réelles\n",
    "plt.xticks(x_pos, maze_sizes)\n",
    "\n",
    "plt.grid(axis='y', alpha=0.3)\n",
    "\n",
    "# Ajouter les valeurs sur les barres\n",
    "for i, bar in enumerate(bars):\n",
    "    height = bar.get_height()\n",
    "    plt.text(bar.get_x() + bar.get_width() / 2, height,\n",
    "             f'{height:.1f} Mo',\n",
    "             ha='center', va='bottom', fontsize=10)\n",
    "\n",
    "plt.tight_layout()\n",
    "plt.show()\n"
   ]
  },
  {
   "cell_type": "markdown",
   "id": "634c2068-3979-496f-9643-da3af77ec66d",
   "metadata": {},
   "source": [
    "# Brouillon = > Ne pas prendre en compte"
   ]
  },
  {
   "cell_type": "code",
   "execution_count": null,
   "id": "3b78a9e4-4074-41f2-b697-5e57fa65fbbf",
   "metadata": {},
   "outputs": [],
   "source": [
    "# Création dataframe Kruskal 1000\n",
    "df= pd.read_csv(\"constructors_metrics.csv\")\n",
    "df_kruskal_5000 = duckdb.sql(\"\"\"\n",
    "SELECT * \n",
    "FROM df \n",
    "where maze_size = 5000 and algorithm= 'kruskal'\n",
    "\"\"\").df()"
   ]
  },
  {
   "cell_type": "code",
   "execution_count": null,
   "id": "0ec478a8-41d5-4f7c-836d-39aea924dc2b",
   "metadata": {},
   "outputs": [],
   "source": [
    "# selection des colonnes numériques\n",
    "num_col = ['generation_time_ms', 'ram_peak_mb', 'file_size_bytes', 'edges_processed', 'union_find_operations']\n",
    "\n",
    "for column in num_col:\n",
    "    Q1 = df_kruskal_10[column].quantile(0.25)\n",
    "    Q3 = df_kruskal_10[column].quantile(0.75)\n",
    "    IQR = Q3 - Q1 \n",
    "\n",
    "    lower_bound = Q1 - 1.5*IQR\n",
    "    upper_bound = Q3 - 1.5*IQR\n",
    "\n",
    "    outliers = df_kruskal_10[(df_kruskal_10[column] > upper_bound) |\n",
    "               (df_kruskal_10[column]  < lower_bound)]\n",
    "\n",
    "    print(f\"\\n{column}:\")\n",
    "    print(f\"  - Q1: {Q1:.2f}, Q3: {Q3:.2f}, IQR: {IQR:.2f}\")\n",
    "    print(f\"  - Bornes: [{lower_bound:.2f}, {upper_bound:.2f}]\")\n",
    "    print(f\"  - Outliers détectés: {len(outliers)}\")\n",
    "    \n",
    "    if len(outliers) > 0:\n",
    "        print(f\"  - Valeurs outliers: {outliers[column].values}\")"
   ]
  },
  {
   "cell_type": "code",
   "execution_count": null,
   "id": "06a018a4-dd83-4866-ae9e-6fdfb8522691",
   "metadata": {},
   "outputs": [],
   "source": [
    "# selection des colonnes numériques\n",
    "num_col = ['generation_time_ms', 'ram_peak_mb', 'file_size_bytes', 'edges_processed', 'union_find_operations']\n",
    "\n",
    "for column in num_col:\n",
    "    Q1 = df_kruskal_5000[column].quantile(0.25)\n",
    "    Q3 = df_kruskal_5000[column].quantile(0.75)\n",
    "    IQR = Q3 - Q1 \n",
    "\n",
    "    lower_bound = Q1 - 1.5*IQR\n",
    "    upper_bound = Q3 - 1.5*IQR\n",
    "\n",
    "    outliers = df_kruskal_5000[(df_kruskal_5000[column] > upper_bound) |\n",
    "               (df_kruskal_5000[column]  < lower_bound)]\n",
    "\n",
    "    print(f\"\\n{column}:\")\n",
    "    print(f\"  - Q1: {Q1:.2f}, Q3: {Q3:.2f}, IQR: {IQR:.2f}\")\n",
    "    print(f\"  - Bornes: [{lower_bound:.2f}, {upper_bound:.2f}]\")\n",
    "    print(f\"  - Outliers détectés: {len(outliers)}\")\n",
    "    \n",
    "    if len(outliers) > 0:\n",
    "        print(f\"  - Valeurs outliers: {outliers[column].values}\")"
   ]
  },
  {
   "cell_type": "code",
   "execution_count": null,
   "id": "889f6906-ed30-4ec8-a4d8-b2bceffa21fd",
   "metadata": {},
   "outputs": [],
   "source": []
  },
  {
   "cell_type": "markdown",
   "id": "8c8fad24-0f1f-4dea-afab-9caa3ece3b9d",
   "metadata": {},
   "source": [
    "## Recherche de corrélations des variables sur les outliers"
   ]
  },
  {
   "cell_type": "code",
   "execution_count": null,
   "id": "e0cce60f-a35a-4396-a292-f0a7f1cbedc6",
   "metadata": {},
   "outputs": [],
   "source": [
    "\n",
    "\n",
    "# temps max\n",
    "max_time = duckdb.sql(\"\"\"\n",
    "    SELECT *,\n",
    "      'max_time'as metric\n",
    "      from df_kruskal_1000\n",
    "        where generation_time_ms = (select max(generation_time_ms) FROM df_kruskal_1000)\"\"\").df()\n",
    "\n",
    "# max ram\n",
    "max_ram = duckdb.sql(\"\"\"\n",
    "    SELECT *,\n",
    "      'max_ram'as metric\n",
    "    from df_kruskal_1000\n",
    "    where ram_peak_mb = (select max(ram_peak_mb) FROM df_kruskal_1000)\"\"\").df()\n",
    "\n",
    "# max operations\n",
    "max_ops = duckdb.sql(\"\"\"\n",
    "    SELECT *,\n",
    "      'max_ops'as metric\n",
    "    from df_kruskal_1000\n",
    "    where union_find_operations = (select max(union_find_operations) FROM df_kruskal_1000)\"\"\").df()\n",
    "\n",
    "result = duckdb.sql(\"\"\" \n",
    "    select * from max_time\n",
    "    union all\n",
    "    select * from max_ram\n",
    "    union all\n",
    "    select * from max_ops\n",
    "    \"\"\").df()\n",
    "\n",
    "result"
   ]
  },
  {
   "cell_type": "code",
   "execution_count": null,
   "id": "fd35d991-cd05-423b-9d80-1552d187158c",
   "metadata": {},
   "outputs": [],
   "source": [
    "result = duckdb.sql(\"\"\"\n",
    "SELECT *\n",
    "from df_kruskal_50\n",
    "where union_find_operations = (\n",
    "select max(union_find_operations)\n",
    "from df_kruskal_50)\n",
    "\"\"\").df()\n",
    "result"
   ]
  },
  {
   "cell_type": "code",
   "execution_count": null,
   "id": "8be8ba77-721d-4029-8e7e-6b53ea7c7f59",
   "metadata": {},
   "outputs": [],
   "source": [
    "result = duckdb.sql(\"\"\"\n",
    "SELECT *\n",
    "from df_kruskal_10\n",
    "where union_find_operations = (\n",
    "select max(union_find_operations)\n",
    "from df_kruskal_10)\n",
    "\"\"\").df()\n",
    "result"
   ]
  },
  {
   "cell_type": "markdown",
   "id": "da79fbeb-e1d2-4d23-904e-873eade29db9",
   "metadata": {},
   "source": [
    "### recherche correlation avec la ram"
   ]
  },
  {
   "cell_type": "code",
   "execution_count": null,
   "id": "a119706b-3b9b-4ec7-bf81-4568b9a34bd8",
   "metadata": {
    "scrolled": true
   },
   "outputs": [],
   "source": [
    "result = duckdb.sql(\"\"\"\n",
    "SELECT *\n",
    "from df_kruskal_50\n",
    "where ram_peak_mb = (\n",
    "select max(ram_peak_mb)\n",
    "from df_kruskal_50)\n",
    "\"\"\").df()\n",
    "result"
   ]
  },
  {
   "cell_type": "code",
   "execution_count": null,
   "id": "a1109714-c2ef-4f68-8bad-f60cb059511f",
   "metadata": {},
   "outputs": [],
   "source": [
    "df= pd.read_csv(\"constructors_metrics.csv\")\n",
    "df_recursive_maze_10 = duckdb.sql(\"\"\"\n",
    "SELECT * \n",
    "FROM df \n",
    "where maze_size = 10 and algorithm= 'recursive_backtracking'\n",
    "\"\"\").df()\n",
    "df_recursive_maze_10"
   ]
  },
  {
   "cell_type": "code",
   "execution_count": null,
   "id": "4b4c8290-f8b3-442d-a58b-d39d142205cb",
   "metadata": {
    "scrolled": true
   },
   "outputs": [],
   "source": [
    "# selection des colonnes numériques\n",
    "num_col = ['generation_time_ms', 'ram_peak_mb', 'file_size_bytes', 'edges_processed', 'union_find_operations']\n",
    "\n",
    "for column in num_col:\n",
    "    Q1 = df_recursive_maze_10[column].quantile(0.25)\n",
    "    Q3 = df_recursive_maze_10[column].quantile(0.75)\n",
    "    IQR = Q3 - Q1 \n",
    "\n",
    "    lower_bound = Q1 - 1.5*IQR\n",
    "    upper_bound = Q3 - 1.5*IQR\n",
    "\n",
    "    outliers = df_recursive_maze_10[(df_recursive_maze_10[column] > upper_bound) |\n",
    "               (df_recursive_maze_10[column]  < lower_bound)]\n",
    "\n",
    "    print(f\"\\n{column}:\")\n",
    "    print(f\"  - Q1: {Q1:.2f}, Q3: {Q3:.2f}, IQR: {IQR:.2f}\")\n",
    "    print(f\"  - Bornes: [{lower_bound:.2f}, {upper_bound:.2f}]\")\n",
    "    print(f\"  - Outliers détectés: {len(outliers)}\")\n",
    "    \n",
    "    if len(outliers) > 0:\n",
    "        print(f\"  - Valeurs outliers: {outliers[column].values}\")"
   ]
  },
  {
   "cell_type": "code",
   "execution_count": null,
   "id": "4c45802a-1c57-428d-ba4b-23e1e7098fe4",
   "metadata": {
    "scrolled": true
   },
   "outputs": [],
   "source": [
    "# selection des colonnes numériques\n",
    "num_col = ['generation_time_ms', 'ram_peak_mb', 'file_size_bytes', 'edges_processed', 'union_find_operations']\n",
    "\n",
    "for column in num_col:\n",
    "    Q1 = df_recursive_maze_40[column].quantile(0.25)\n",
    "    Q3 = df_recursive_maze_40[column].quantile(0.75)\n",
    "    IQR = Q3 - Q1 \n",
    "\n",
    "    lower_bound = Q1 - 1.5*IQR\n",
    "    upper_bound = Q3 - 1.5*IQR\n",
    "\n",
    "    outliers = df_recursive_maze_40[(df_recursive_maze_40[column] > upper_bound) |\n",
    "               (df_recursive_maze_40[column]  < lower_bound)]\n",
    "\n",
    "    print(f\"\\n{column}:\")\n",
    "    print(f\"  - Q1: {Q1:.2f}, Q3: {Q3:.2f}, IQR: {IQR:.2f}\")\n",
    "    print(f\"  - Bornes: [{lower_bound:.2f}, {upper_bound:.2f}]\")\n",
    "    print(f\"  - Outliers détectés: {len(outliers)}\")\n",
    "    \n",
    "    if len(outliers) > 0:\n",
    "        print(f\"  - Valeurs outliers: {outliers[column].values}\")"
   ]
  },
  {
   "cell_type": "code",
   "execution_count": null,
   "id": "bd333294-2d75-4590-a458-f0e6c3ce1be2",
   "metadata": {},
   "outputs": [],
   "source": [
    "max(generation_time_ms) as max_time_ms, min(generation_time_ms) as min_time_ms, avg(generation_time_ms) as avg_time_ms "
   ]
  },
  {
   "cell_type": "code",
   "execution_count": null,
   "id": "a0319cde-7c53-4827-ae45-e2e87636a1a8",
   "metadata": {},
   "outputs": [],
   "source": [
    "kurskal et recursive_backtracking: les pic de ram les plus importants sont toujours sur les derniers enregistrements d'une serie\n",
    "kurskal: 3 outliers détectés Kurskal_10 =>15.33, kurskal_50 =>47.26 kuskal_1000 => 198485.63 \n",
    "recursive_backtracking: 2 outliers détectés recursive_maze_40 =>31.9 et recursive_maze_10 =>9.92\n",
    "kurskal: après étude approfondie aucune répercution de ces valeurs extrême sur ram_peak_mb, union_find_operations. Dans ces conditions nous décidons de remplacer ces valeurs par la moyenne de generation_time_ms"
   ]
  },
  {
   "cell_type": "code",
   "execution_count": null,
   "id": "5954264c-564f-42b7-8c0b-5e4d45c1e2ac",
   "metadata": {},
   "outputs": [],
   "source": [
    "# création data frame dfs taille 20\n",
    "df= pd.read_csv(\"constructors_metrics.csv\")\n",
    "df_recursive_maze_20 = duckdb.sql(\"\"\"\n",
    "SELECT * \n",
    "FROM df \n",
    "where maze_size = 20 and algorithm= 'recursive_backtracking'\n",
    "\"\"\").df()\n",
    "df_recursive_maze_20"
   ]
  },
  {
   "cell_type": "code",
   "execution_count": null,
   "id": "2b0ef660-0b3c-44ec-8ad5-9bb446231d59",
   "metadata": {},
   "outputs": [],
   "source": [
    "max_recursive_20 = duckdb.sql(\"\"\"\n",
    "SELECT max(\"generation_time_ms\")\n",
    "from df_recursive_maze_20\n",
    "\"\"\").df()\n",
    "max_recursive_20"
   ]
  },
  {
   "cell_type": "code",
   "execution_count": null,
   "id": "df63a8ad-3d1e-4194-821d-45ae48ed70dd",
   "metadata": {},
   "outputs": [],
   "source": [
    "# création data frame dfs taille 30\n",
    "df= pd.read_csv(\"constructors_metrics.csv\")\n",
    "df_recursive_maze_30 = duckdb.sql(\"\"\"\n",
    "SELECT * \n",
    "FROM df \n",
    "where maze_size = 30 and algorithm= 'recursive_backtracking'\n",
    "\"\"\").df()\n",
    "df_recursive_maze_30"
   ]
  },
  {
   "cell_type": "code",
   "execution_count": null,
   "id": "d26bce49-e56d-4b19-917d-a3b8dcb5714b",
   "metadata": {},
   "outputs": [],
   "source": [
    "max_recursive_30 = duckdb.sql(\"\"\"\n",
    "SELECT max(\"generation_time_ms\")\n",
    "from df_recursive_maze_30\n",
    "\"\"\").df()\n",
    "max_recursive_30"
   ]
  },
  {
   "cell_type": "code",
   "execution_count": null,
   "id": "04ab2d01-95e2-4c5f-9c84-cad3007fd4d8",
   "metadata": {},
   "outputs": [],
   "source": [
    "mean_recursive_30 = duckdb.sql(\"\"\"\n",
    "SELECT mean(\"generation_time_ms\")\n",
    "from df_recursive_maze_30\n",
    "\"\"\").df()\n",
    "mean_recursive_30"
   ]
  },
  {
   "cell_type": "code",
   "execution_count": null,
   "id": "256ecd29-52f8-4953-a35f-44bd116b5ca9",
   "metadata": {},
   "outputs": [],
   "source": [
    "count_max_recursive_30 = duckdb.sql(\"\"\"\n",
    "SELECT filename\n",
    "from df_recursive_maze_30\n",
    "where generation_time_ms > 14\n",
    "\"\"\").df()\n",
    "count_max_recursive_30"
   ]
  },
  {
   "cell_type": "code",
   "execution_count": null,
   "id": "3755db2c-e18f-437b-8a65-2340fd14addf",
   "metadata": {},
   "outputs": [],
   "source": [
    "# création data frame dfs taille 30\n",
    "df= pd.read_csv(\"constructors_metrics.csv\")\n",
    "df_kruskal_30 = duckdb.sql(\"\"\"\n",
    "SELECT * \n",
    "FROM df \n",
    "where maze_size = 30 and algorithm= 'kruskal'\n",
    "\"\"\").df()\n",
    "df_kruskal_30"
   ]
  },
  {
   "cell_type": "code",
   "execution_count": null,
   "id": "1b9da1c1-f08d-4f6e-a3da-b6d25f68416a",
   "metadata": {},
   "outputs": [],
   "source": [
    "max_kruskal_30 = duckdb.sql(\"\"\"\n",
    "SELECT max(\"generation_time_ms\")\n",
    "from df_kruskal_30\n",
    "\"\"\").df()\n",
    "max_kruskal_30"
   ]
  },
  {
   "cell_type": "code",
   "execution_count": null,
   "id": "d3e86f78-03f5-408f-9adf-9642c00f568e",
   "metadata": {},
   "outputs": [],
   "source": [
    "mean_kruskal_30 = duckdb.sql(\"\"\"\n",
    "SELECT mean(\"generation_time_ms\")\n",
    "from df_kruskal_30\n",
    "\"\"\").df()\n",
    "mean_kruskal_30"
   ]
  },
  {
   "cell_type": "code",
   "execution_count": null,
   "id": "8dc11857-3072-45e4-ab24-448b024aa990",
   "metadata": {},
   "outputs": [],
   "source": [
    "# création data frame dfs taille 30\n",
    "df= pd.read_csv(\"constructors_metrics.csv\")\n",
    "df_kruskal_20 = duckdb.sql(\"\"\"\n",
    "SELECT * \n",
    "FROM df \n",
    "where maze_size = 20 and algorithm= 'kruskal'\n",
    "\"\"\").df()\n",
    "df_kruskal_20"
   ]
  },
  {
   "cell_type": "code",
   "execution_count": null,
   "id": "0b6bb7cb-ffae-48f1-91bf-fb48050fd91c",
   "metadata": {},
   "outputs": [],
   "source": [
    "max_kruskal_20 = duckdb.sql(\"\"\"\n",
    "SELECT max(\"generation_time_ms\")\n",
    "from df_kruskal_20\n",
    "\"\"\").df()\n",
    "max_kruskal_20"
   ]
  },
  {
   "cell_type": "code",
   "execution_count": null,
   "id": "97a95573-d374-4815-9b03-7c06ff0ea152",
   "metadata": {},
   "outputs": [],
   "source": [
    "mean_kruskal_20 = duckdb.sql(\"\"\"\n",
    "SELECT mean(\"generation_time_ms\")\n",
    "from df_kruskal_20\n",
    "\"\"\").df()\n",
    "mean_kruskal_20"
   ]
  },
  {
   "cell_type": "code",
   "execution_count": null,
   "id": "cb99f6dc-ee31-4dec-b54f-4d9d7c2ebfd1",
   "metadata": {},
   "outputs": [],
   "source": [
    "mean_kruskal_20 = duckdb.sql(\"\"\"\n",
    "SELECT filename\n",
    "from df_kruskal_20\n",
    "where generation_time_ms > 8\n",
    "\"\"\").df()\n",
    "mean_kruskal_20"
   ]
  },
  {
   "cell_type": "code",
   "execution_count": null,
   "id": "0ab3f4df-a0e9-48fb-a89c-b2c1b0914a5d",
   "metadata": {},
   "outputs": [],
   "source": [
    "df_clean = duckdb.sql(\"\"\"\n",
    "UPDATE df\n",
    "SET generation_time = select mean(generation_time) from df_kruskal_20\n",
    "WHERE filename = kruskal_strict_20_5.txt\n",
    "\"\"\").df()\n",
    "\n",
    "df_clean = duckdb.sql(\"\"\"\n",
    "UPDATE df\n",
    "SET generation_time = mean(generation_time)\n",
    "WHERE filename = kruskal_strict_20_5.txt\n",
    "\"\"\").df()\n"
   ]
  },
  {
   "cell_type": "code",
   "execution_count": 166,
   "id": "9e0e4c84-fc43-4602-adc2-a83f6e44928a",
   "metadata": {},
   "outputs": [
    {
     "name": "stdout",
     "output_type": "stream",
     "text": [
      "Noms des algorithmes présents dans df_clean:\n",
      "['kruskal' None 'recursive_backtracking']\n",
      "\n",
      "Résultat de la requête:\n",
      "['kruskal' 'recursive_backtracking']\n",
      "\n",
      "Colonnes du DataFrame pivoté:\n",
      "['kruskal', 'recursive_backtracking']\n"
     ]
    }
   ],
   "source": [
    "# D'abord, vérifions les noms exacts des algorithmes dans vos données\n",
    "print(\"Noms des algorithmes présents dans df_clean:\")\n",
    "print(df_clean['algorithm'].unique())\n",
    "\n",
    "# Vérifions aussi le résultat de la requête\n",
    "print(\"\\nRésultat de la requête:\")\n",
    "print(df_ops['algorithm'].unique())\n",
    "\n",
    "# Vérifions les colonnes du pivot\n",
    "print(\"\\nColonnes du DataFrame pivoté:\")\n",
    "print(pivot_df.columns.tolist())\n"
   ]
  },
  {
   "cell_type": "code",
   "execution_count": null,
   "id": "bbcf9200-5a04-41f8-8f8d-4ee16de54a2b",
   "metadata": {},
   "outputs": [],
   "source": []
  }
 ],
 "metadata": {
  "kernelspec": {
   "display_name": "amazing-mazes",
   "language": "python",
   "name": "amazing-mazes"
  },
  "language_info": {
   "codemirror_mode": {
    "name": "ipython",
    "version": 3
   },
   "file_extension": ".py",
   "mimetype": "text/x-python",
   "name": "python",
   "nbconvert_exporter": "python",
   "pygments_lexer": "ipython3",
   "version": "3.10.18"
  }
 },
 "nbformat": 4,
 "nbformat_minor": 5
}
