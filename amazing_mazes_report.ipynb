{
 "cells": [
  {
   "cell_type": "markdown",
   "id": "3c5f8754-5e5b-4831-b581-a788a52297c0",
   "metadata": {},
   "source": [
    "# Amazing Mazes"
   ]
  },
  {
   "cell_type": "markdown",
   "id": "406dc3f6-56ac-48a8-8695-190d25559508",
   "metadata": {},
   "source": [
    "Générateur et solveur de labyrinthe parfait inspiré par la mythologie grecque. Met en œuvre le Retour sur trace (Recursive Backtracking) et Kruskal pour la génération, le Retour sur trace et A* pour la résolution. Comprend la visualisation ASCII/image, l'analyse de performance et des tests sur des labyrinthes jusqu'à 100 000 cellules. Projet algorithmique Python avec benchmarks comparatifs."
   ]
  },
  {
   "cell_type": "code",
   "execution_count": 3,
   "id": "201773c9-bf1d-4012-a5c6-0e5ab70e50a4",
   "metadata": {},
   "outputs": [],
   "source": [
    "# imports"
   ]
  },
  {
   "cell_type": "markdown",
   "id": "a84f166f-0d55-4d36-b286-ce23b44cf297",
   "metadata": {},
   "source": [
    "## Les constructeurs"
   ]
  },
  {
   "cell_type": "markdown",
   "id": "e6a5d49d-0474-4279-af3f-1f1dccf13ca8",
   "metadata": {},
   "source": [
    "### Recursive Backtracking"
   ]
  },
  {
   "cell_type": "markdown",
   "id": "a5308d3e-f913-415d-87c0-69cf6336c7cf",
   "metadata": {},
   "source": [
    "### Kruskal"
   ]
  },
  {
   "cell_type": "markdown",
   "id": "28fcbd03-1801-40cf-8c42-025d57696bbd",
   "metadata": {},
   "source": [
    "#### Kurskal strict"
   ]
  },
  {
   "cell_type": "markdown",
   "id": "38e18577-fd37-48fa-8b28-0643d53af39b",
   "metadata": {},
   "source": [
    "#### Kurskal optimisé"
   ]
  },
  {
   "cell_type": "markdown",
   "id": "e20e8858-542d-42c1-9860-2ac95aca1430",
   "metadata": {},
   "source": [
    "## Les solveurs"
   ]
  },
  {
   "cell_type": "markdown",
   "id": "920b6aa5-7be8-410f-8c0f-d037df7506cd",
   "metadata": {},
   "source": [
    "### Recursive Backtracking"
   ]
  },
  {
   "cell_type": "markdown",
   "id": "e5dd44ff-81f4-4755-80c2-23f4c4a9c515",
   "metadata": {},
   "source": [
    "### A*"
   ]
  },
  {
   "cell_type": "markdown",
   "id": "b4599276-4a2d-4070-a4b1-737c012e5b40",
   "metadata": {},
   "source": [
    "## Visalisations des labyrinthes et des parcours"
   ]
  },
  {
   "cell_type": "markdown",
   "id": "eec5fb95-3549-4604-aa3b-2b51362c3aee",
   "metadata": {},
   "source": [
    "## Analyse Comparative des Performances Algorithmiques"
   ]
  },
  {
   "cell_type": "markdown",
   "id": "87c4c599-ac06-44b3-8cf8-98a79774ba10",
   "metadata": {},
   "source": [
    "### Nos outils de mesures"
   ]
  },
  {
   "cell_type": "markdown",
   "id": "3189d5b7-b648-486b-a816-c789beaa959f",
   "metadata": {},
   "source": [
    "### Les fichiers csv générés"
   ]
  },
  {
   "cell_type": "code",
   "execution_count": null,
   "id": "f9c18d71-17bc-4a87-b313-79c369cafbfb",
   "metadata": {},
   "outputs": [],
   "source": []
  }
 ],
 "metadata": {
  "kernelspec": {
   "display_name": "amazing-mazes",
   "language": "python",
   "name": "amazing-mazes"
  },
  "language_info": {
   "codemirror_mode": {
    "name": "ipython",
    "version": 3
   },
   "file_extension": ".py",
   "mimetype": "text/x-python",
   "name": "python",
   "nbconvert_exporter": "python",
   "pygments_lexer": "ipython3",
   "version": "3.10.18"
  }
 },
 "nbformat": 4,
 "nbformat_minor": 5
}
